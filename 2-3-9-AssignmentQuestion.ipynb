{
  "cells": [
    {
      "cell_type": "markdown",
      "metadata": {
        "id": "view-in-github",
        "colab_type": "text"
      },
      "source": [
        "<a href=\"https://colab.research.google.com/github/nmathew6/FundamentalsOfTinyML/blob/main/2-3-9-AssignmentQuestion.ipynb\" target=\"_parent\"><img src=\"https://colab.research.google.com/assets/colab-badge.svg\" alt=\"Open In Colab\"/></a>"
      ]
    },
    {
      "cell_type": "markdown",
      "metadata": {
        "id": "iiVBUpuHXEtw"
      },
      "source": [
        "# Create a CNN to classify Cifar-10\n",
        "\n",
        "Learn about Cifar-10 here: https://www.cs.toronto.edu/~kriz/cifar.html\n",
        "\n",
        "In class you saw how to build a Convolutional Neural Network that classified Fashion MNIST. Take what you learned to build a CNN that recognizes the 10 classes of CIFAR. It will be a similar network, but there are some key differences you'll need to take into account.\n",
        "\n",
        "First, while MNIST were 28x28 monochome images (1 color channel), CIFAR are 32x32 color images (3 color channels).\n",
        "\n",
        "Second, MNIST images are simple, containing just the object, centered in the image, with no background. CIFAR ones can have the object with a background -- for example airplanes might have a cloudy sky behind them! As such you should expect your accuracy to be a bit lower. \n",
        "\n",
        "We start by setting up the problem for you."
      ]
    },
    {
      "cell_type": "code",
      "execution_count": 1,
      "metadata": {
        "id": "6OQ_tVTaU3oo",
        "outputId": "69ee67a0-92ba-4833-b14b-c0e6ff2d75a5",
        "colab": {
          "base_uri": "https://localhost:8080/"
        }
      },
      "outputs": [
        {
          "output_type": "stream",
          "name": "stdout",
          "text": [
            "Downloading data from https://www.cs.toronto.edu/~kriz/cifar-10-python.tar.gz\n",
            "170500096/170498071 [==============================] - 170s 1us/step\n",
            "170508288/170498071 [==============================] - 170s 1us/step\n"
          ]
        }
      ],
      "source": [
        "import tensorflow as tf\n",
        "\n",
        "from tensorflow.keras import datasets, layers, models\n",
        "import matplotlib.pyplot as plt\n",
        "\n",
        "(train_images, train_labels), (test_images, test_labels) = datasets.cifar10.load_data()\n",
        "\n",
        "# Normalize pixel values to be between 0 and 1\n",
        "train_images = train_images / 255.0\n",
        "test_images = test_images / 255.0"
      ]
    },
    {
      "cell_type": "markdown",
      "metadata": {
        "id": "XWgiQFvjzjCq"
      },
      "source": [
        "We then definte some of the model for you but leave most of it for you to fill in! \n",
        "\n",
        "*A hint: your model may want to learn some high level features and then classify them.*"
      ]
    },
    {
      "cell_type": "code",
      "execution_count": 2,
      "metadata": {
        "id": "law2hNzdVA16"
      },
      "outputs": [],
      "source": [
        "FIRST_LAYER = tf.keras.layers.Conv2D(64, (3,3), activation='relu', input_shape=(32, 32, 3)) #YOUR CODE HERE#\n",
        "HIDDEN_LAYER_TYPE_1 = tf.keras.layers.MaxPooling2D(2,2) #YOUR CODE HERE#\n",
        "HIDDEN_LAYER_TYPE_2 = tf.keras.layers.Conv2D(64, (3,3), activation='relu') #YOUR CODE HERE#\n",
        "HIDDEN_LAYER_TYPE_3 = tf.keras.layers.MaxPooling2D(2,2) #YOUR CODE HERE#\n",
        "HIDDEN_LAYER_TYPE_4 = tf.keras.layers.Conv2D(32, (3,3), activation='relu') #YOUR CODE HERE#\n",
        "HIDDEN_LAYER_TYPE_5 = tf.keras.layers.Dense(20, activation='relu') #YOUR CODE HERE#\n",
        "LAST_LAYER = tf.keras.layers.Dense(10, activation='softmax') #YOUR CODE HERE#\n",
        "\n",
        "model = models.Sequential([\n",
        "       FIRST_LAYER,\n",
        "       HIDDEN_LAYER_TYPE_1,\n",
        "       HIDDEN_LAYER_TYPE_2,\n",
        "       HIDDEN_LAYER_TYPE_3,\n",
        "       HIDDEN_LAYER_TYPE_4,\n",
        "       layers.Flatten(),\n",
        "       HIDDEN_LAYER_TYPE_5,\n",
        "       LAST_LAYER,\n",
        "])"
      ]
    },
    {
      "cell_type": "markdown",
      "metadata": {
        "id": "ZuAODWn3zjCs"
      },
      "source": [
        "You then need to define loss function. And you can then train your model. Once training is done you'll see a plot of training and validation accuracy. You'll know you have a reasonable model with a reasonable loss funciton if your final training accuracy ends up in the 70s (or possibly higher).\n",
        "\n",
        "*A hint: your model may want to learn different categories.*"
      ]
    },
    {
      "cell_type": "code",
      "execution_count": 3,
      "metadata": {
        "id": "Dxq2JU7dVIEX",
        "outputId": "37d8b6ef-1f4f-40b3-90b5-587c9325557c",
        "colab": {
          "base_uri": "https://localhost:8080/",
          "height": 989
        }
      },
      "outputs": [
        {
          "output_type": "stream",
          "name": "stdout",
          "text": [
            "Epoch 1/20\n",
            "1563/1563 [==============================] - 19s 5ms/step - loss: 2.1400 - accuracy: 0.2105 - val_loss: 2.0422 - val_accuracy: 0.2642\n",
            "Epoch 2/20\n",
            "1563/1563 [==============================] - 7s 5ms/step - loss: 1.7843 - accuracy: 0.3515 - val_loss: 1.6559 - val_accuracy: 0.3883\n",
            "Epoch 3/20\n",
            "1563/1563 [==============================] - 7s 5ms/step - loss: 1.5771 - accuracy: 0.4241 - val_loss: 1.5380 - val_accuracy: 0.4378\n",
            "Epoch 4/20\n",
            "1563/1563 [==============================] - 7s 4ms/step - loss: 1.4407 - accuracy: 0.4794 - val_loss: 1.3736 - val_accuracy: 0.5071\n",
            "Epoch 5/20\n",
            "1563/1563 [==============================] - 6s 4ms/step - loss: 1.3425 - accuracy: 0.5182 - val_loss: 1.3602 - val_accuracy: 0.5154\n",
            "Epoch 6/20\n",
            "1563/1563 [==============================] - 7s 5ms/step - loss: 1.2632 - accuracy: 0.5532 - val_loss: 1.2835 - val_accuracy: 0.5345\n",
            "Epoch 7/20\n",
            "1563/1563 [==============================] - 7s 5ms/step - loss: 1.1968 - accuracy: 0.5740 - val_loss: 1.2439 - val_accuracy: 0.5679\n",
            "Epoch 8/20\n",
            "1563/1563 [==============================] - 7s 4ms/step - loss: 1.1413 - accuracy: 0.5979 - val_loss: 1.1411 - val_accuracy: 0.5993\n",
            "Epoch 9/20\n",
            "1563/1563 [==============================] - 7s 5ms/step - loss: 1.0927 - accuracy: 0.6153 - val_loss: 1.1990 - val_accuracy: 0.5712\n",
            "Epoch 10/20\n",
            "1563/1563 [==============================] - 7s 5ms/step - loss: 1.0515 - accuracy: 0.6305 - val_loss: 1.0963 - val_accuracy: 0.6145\n",
            "Epoch 11/20\n",
            "1563/1563 [==============================] - 7s 5ms/step - loss: 1.0175 - accuracy: 0.6449 - val_loss: 1.0607 - val_accuracy: 0.6343\n",
            "Epoch 12/20\n",
            "1563/1563 [==============================] - 7s 5ms/step - loss: 0.9813 - accuracy: 0.6558 - val_loss: 1.0325 - val_accuracy: 0.6381\n",
            "Epoch 13/20\n",
            "1563/1563 [==============================] - 7s 4ms/step - loss: 0.9520 - accuracy: 0.6669 - val_loss: 1.1220 - val_accuracy: 0.6102\n",
            "Epoch 14/20\n",
            "1563/1563 [==============================] - 6s 4ms/step - loss: 0.9231 - accuracy: 0.6778 - val_loss: 1.0901 - val_accuracy: 0.6252\n",
            "Epoch 15/20\n",
            "1563/1563 [==============================] - 7s 5ms/step - loss: 0.8974 - accuracy: 0.6868 - val_loss: 0.9832 - val_accuracy: 0.6609\n",
            "Epoch 16/20\n",
            "1563/1563 [==============================] - 7s 5ms/step - loss: 0.8727 - accuracy: 0.6965 - val_loss: 0.9332 - val_accuracy: 0.6747\n",
            "Epoch 17/20\n",
            "1563/1563 [==============================] - 7s 5ms/step - loss: 0.8507 - accuracy: 0.7040 - val_loss: 0.9326 - val_accuracy: 0.6766\n",
            "Epoch 18/20\n",
            "1563/1563 [==============================] - 7s 4ms/step - loss: 0.8273 - accuracy: 0.7123 - val_loss: 0.9040 - val_accuracy: 0.6868\n",
            "Epoch 19/20\n",
            "1563/1563 [==============================] - 8s 5ms/step - loss: 0.8099 - accuracy: 0.7186 - val_loss: 0.9944 - val_accuracy: 0.6590\n",
            "Epoch 20/20\n",
            "1563/1563 [==============================] - 7s 5ms/step - loss: 0.7891 - accuracy: 0.7241 - val_loss: 0.9239 - val_accuracy: 0.6772\n"
          ]
        },
        {
          "output_type": "display_data",
          "data": {
            "text/plain": [
              "<Figure size 432x288 with 1 Axes>"
            ],
            "image/png": "[encoded data removed]"
          },
          "metadata": {
            "needs_background": "light"
          }
        }
      ],
      "source": [
        "LOSS = 'sparse_categorical_crossentropy' #YOUR CODE HERE#\n",
        "NUM_EPOCHS = 20 #You can change this value if you like to experiment with it to get better accuracy\n",
        "\n",
        "# Compile the model\n",
        "model.compile(optimizer='sgd',\n",
        "              loss=LOSS,\n",
        "              metrics=['accuracy'])\n",
        "\n",
        "# Fit the model\n",
        "history = model.fit(train_images, train_labels, epochs=NUM_EPOCHS, \n",
        "                    validation_data=(test_images, test_labels))\n",
        "\n",
        "# summarize history for accuracy\n",
        "plt.plot(history.history['accuracy'])\n",
        "plt.plot(history.history['val_accuracy'])\n",
        "plt.title('model accuracy')\n",
        "plt.ylabel('accuracy')\n",
        "plt.xlabel('epoch')\n",
        "plt.legend(['train', 'test'], loc='upper left')\n",
        "plt.xlim([0,NUM_EPOCHS])\n",
        "plt.ylim([0.4,1.0])\n",
        "plt.show()"
      ]
    },
    {
      "cell_type": "markdown",
      "metadata": {
        "id": "wxl0SsoyzjCu"
      },
      "source": [
        "Finally, pick a better optimizer. And re-train your model. You'll know you have a reasonable model with a reasonable loss funciton and optimizer if your final training accuracy ends up in the 80s (or possibly higher).\n",
        "\n",
        "*A hint: your model may want to learn adaptively.*"
      ]
    },
    {
      "cell_type": "code",
      "execution_count": 4,
      "metadata": {
        "id": "sNF32THYzjCv",
        "outputId": "ddd548bb-5768-444a-b48c-1be6cff5b024",
        "colab": {
          "base_uri": "https://localhost:8080/",
          "height": 989
        }
      },
      "outputs": [
        {
          "output_type": "stream",
          "name": "stdout",
          "text": [
            "Epoch 1/20\n",
            "1563/1563 [==============================] - 8s 5ms/step - loss: 0.8877 - accuracy: 0.6897 - val_loss: 0.9567 - val_accuracy: 0.6715\n",
            "Epoch 2/20\n",
            "1563/1563 [==============================] - 7s 5ms/step - loss: 0.8273 - accuracy: 0.7114 - val_loss: 0.9263 - val_accuracy: 0.6837\n",
            "Epoch 3/20\n",
            "1563/1563 [==============================] - 7s 4ms/step - loss: 0.7681 - accuracy: 0.7316 - val_loss: 0.8943 - val_accuracy: 0.6978\n",
            "Epoch 4/20\n",
            "1563/1563 [==============================] - 7s 5ms/step - loss: 0.7223 - accuracy: 0.7488 - val_loss: 0.9537 - val_accuracy: 0.6852\n",
            "Epoch 5/20\n",
            "1563/1563 [==============================] - 7s 5ms/step - loss: 0.6829 - accuracy: 0.7613 - val_loss: 0.8852 - val_accuracy: 0.7053\n",
            "Epoch 6/20\n",
            "1563/1563 [==============================] - 7s 4ms/step - loss: 0.6432 - accuracy: 0.7746 - val_loss: 0.9087 - val_accuracy: 0.6962\n",
            "Epoch 7/20\n",
            "1563/1563 [==============================] - 7s 5ms/step - loss: 0.6103 - accuracy: 0.7854 - val_loss: 0.8893 - val_accuracy: 0.7060\n",
            "Epoch 8/20\n",
            "1563/1563 [==============================] - 7s 4ms/step - loss: 0.5781 - accuracy: 0.7961 - val_loss: 0.8889 - val_accuracy: 0.7105\n",
            "Epoch 9/20\n",
            "1563/1563 [==============================] - 7s 5ms/step - loss: 0.5518 - accuracy: 0.8055 - val_loss: 0.9185 - val_accuracy: 0.7029\n",
            "Epoch 10/20\n",
            "1563/1563 [==============================] - 7s 4ms/step - loss: 0.5270 - accuracy: 0.8119 - val_loss: 0.9393 - val_accuracy: 0.7075\n",
            "Epoch 11/20\n",
            "1563/1563 [==============================] - 7s 4ms/step - loss: 0.5009 - accuracy: 0.8232 - val_loss: 0.9660 - val_accuracy: 0.7022\n",
            "Epoch 12/20\n",
            "1563/1563 [==============================] - 7s 5ms/step - loss: 0.4792 - accuracy: 0.8324 - val_loss: 0.9300 - val_accuracy: 0.7119\n",
            "Epoch 13/20\n",
            "1563/1563 [==============================] - 7s 4ms/step - loss: 0.4600 - accuracy: 0.8374 - val_loss: 0.9667 - val_accuracy: 0.7110\n",
            "Epoch 14/20\n",
            "1563/1563 [==============================] - 7s 5ms/step - loss: 0.4332 - accuracy: 0.8474 - val_loss: 1.0647 - val_accuracy: 0.6965\n",
            "Epoch 15/20\n",
            "1563/1563 [==============================] - 7s 5ms/step - loss: 0.4238 - accuracy: 0.8503 - val_loss: 1.0601 - val_accuracy: 0.7044\n",
            "Epoch 16/20\n",
            "1563/1563 [==============================] - 7s 4ms/step - loss: 0.3956 - accuracy: 0.8597 - val_loss: 1.0633 - val_accuracy: 0.7092\n",
            "Epoch 17/20\n",
            "1563/1563 [==============================] - 7s 4ms/step - loss: 0.3866 - accuracy: 0.8628 - val_loss: 1.0978 - val_accuracy: 0.7035\n",
            "Epoch 18/20\n",
            "1563/1563 [==============================] - 7s 5ms/step - loss: 0.3639 - accuracy: 0.8709 - val_loss: 1.1177 - val_accuracy: 0.7067\n",
            "Epoch 19/20\n",
            "1563/1563 [==============================] - 7s 5ms/step - loss: 0.3553 - accuracy: 0.8717 - val_loss: 1.1505 - val_accuracy: 0.6960\n",
            "Epoch 20/20\n",
            "1563/1563 [==============================] - 7s 4ms/step - loss: 0.3463 - accuracy: 0.8756 - val_loss: 1.1878 - val_accuracy: 0.6998\n"
          ]
        },
        {
          "output_type": "display_data",
          "data": {
            "text/plain": [
              "<Figure size 432x288 with 1 Axes>"
            ],
            "image/png": "[encoded data removed]"
          },
          "metadata": {
            "needs_background": "light"
          }
        }
      ],
      "source": [
        "OPTIMIZER = 'adam' #YOUR CODE HERE#\n",
        "\n",
        "# Compile the model\n",
        "model.compile(optimizer=OPTIMIZER,\n",
        "              loss=LOSS,\n",
        "              metrics=['accuracy'])\n",
        "\n",
        "# Fit the model\n",
        "history = model.fit(train_images, train_labels, epochs=NUM_EPOCHS, \n",
        "                    validation_data=(test_images, test_labels))\n",
        "\n",
        "# summarize history for accuracy\n",
        "plt.plot(history.history['accuracy'])\n",
        "plt.plot(history.history['val_accuracy'])\n",
        "plt.title('model accuracy')\n",
        "plt.ylabel('accuracy')\n",
        "plt.xlabel('epoch')\n",
        "plt.legend(['train', 'test'], loc='upper left')\n",
        "plt.xlim([0,NUM_EPOCHS])\n",
        "plt.ylim([0.4,1.0])\n",
        "plt.show()"
      ]
    }
  ],
  "metadata": {
    "accelerator": "GPU",
    "colab": {
      "name": "2-3-9-Question.ipynb",
      "provenance": [],
      "include_colab_link": true
    },
    "kernelspec": {
      "display_name": "Python 3",
      "language": "python",
      "name": "python3"
    },
    "language_info": {
      "codemirror_mode": {
        "name": "ipython",
        "version": 3
      },
      "file_extension": ".py",
      "mimetype": "text/x-python",
      "name": "python",
      "nbconvert_exporter": "python",
      "pygments_lexer": "ipython3",
      "version": "3.6.9"
    }
  },
  "nbformat": 4,
  "nbformat_minor": 0
}